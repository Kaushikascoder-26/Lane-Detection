{
 "cells": [
  {
   "cell_type": "code",
   "execution_count": null,
   "metadata": {},
   "outputs": [],
   "source": [
    "import numpy as np \n",
    "import pandas as pd \n",
    "import cv2 "
   ]
  },
  {
   "cell_type": "code",
   "execution_count": null,
   "metadata": {},
   "outputs": [],
   "source": [
    "cap = cv2.VideoCapture(0)\n",
    "\n",
    "print(cap.read())\n",
    "\n",
    "while cap.read():\n",
    "    res , frame = cap.read()\n",
    "    if res == True:\n",
    "        frame = cv2.imshow('video',frame)\n",
    "        if cv2.waitKey(1) & 0xFF  == ord('q'):\n",
    "            break \n",
    "    else:\n",
    "        break\n",
    "cap.release()\n",
    "cv2.destroyAllWindows()"
   ]
  },
  {
   "cell_type": "code",
   "execution_count": null,
   "metadata": {},
   "outputs": [],
   "source": [
    "def individual_frame(image_frame):\n",
    "    sol = cv2.cvtColor(image_frame,cv2.COLOR_BGR2GRAY)\n",
    "    #return sol \n",
    "    edge = cv2.Canny(sol , 100,120)\n",
    "\n",
    "    return edge\n",
    "\n",
    "\n",
    "\n",
    "cap = cv2.VideoCapture('./lane_detection_video.mp4')\n",
    "\n",
    "print(cap.read())\n",
    "\n",
    "while cap.read():\n",
    "    res , frame = cap.read()\n",
    "    if res == True:\n",
    "        greyscale = individual_frame(frame)\n",
    "        cv2.imshow(\"grey\",greyscale)\n",
    "        #if cv2.waitKey(1) & 0xFF  == ord('q'):\n",
    "            #break \n",
    "        cv2.waitKey(100)\n",
    "    else:\n",
    "        break\n",
    "cap.release()\n",
    "cv2.destroyAllWindows()"
   ]
  },
  {
   "cell_type": "code",
   "execution_count": null,
   "metadata": {},
   "outputs": [],
   "source": [
    "import matplotlib.pyplot as plt "
   ]
  },
  {
   "cell_type": "code",
   "execution_count": null,
   "metadata": {},
   "outputs": [],
   "source": [
    "img = cv2.imread(\"./male_face.png\")\n",
    "plt.imshow(img[:,:,::-1])"
   ]
  },
  {
   "cell_type": "code",
   "execution_count": null,
   "metadata": {},
   "outputs": [],
   "source": [
    "# converting into grey scale \n",
    "g_i = cv2.cvtColor(img , cv2.COLOR_BGR2GRAY)\n",
    "#g_i = cv2.Canny(g_i,100,150)\n",
    "cv2.imshow('gray',g_i)\n",
    "cv2.waitKey()\n",
    "cv2.destroyAllWindows()"
   ]
  },
  {
   "cell_type": "code",
   "execution_count": null,
   "metadata": {},
   "outputs": [],
   "source": [
    "g_i.shape"
   ]
  },
  {
   "cell_type": "code",
   "execution_count": null,
   "metadata": {},
   "outputs": [],
   "source": [
    "a = (0,g_i.shape[0])\n",
    "b = (g_i.shape[1] / 2 , g_i.shape[0] * 0.05)\n",
    "c = (g_i.shape[1] , g_i.shape[0])"
   ]
  },
  {
   "cell_type": "code",
   "execution_count": null,
   "metadata": {},
   "outputs": [],
   "source": [
    "# selecting interested area \n",
    "re = [\n",
    "    \n",
    "    \n",
    "(0,g_i.shape[0]),\n",
    "(g_i.shape[1] / 2 , g_i.shape[0] * 0.65),\n",
    "(g_i.shape[1] , g_i.shape[0])\n",
    "    \n",
    "]"
   ]
  },
  {
   "cell_type": "code",
   "execution_count": null,
   "metadata": {},
   "outputs": [],
   "source": [
    "# taking complete black image with same input image size \n",
    "black = np.zeros_like(g_i)\n",
    "cv2.imshow('black',black)\n",
    "cv2.waitKey()\n",
    "cv2.destroyAllWindows()"
   ]
  },
  {
   "cell_type": "code",
   "execution_count": null,
   "metadata": {},
   "outputs": [],
   "source": [
    "re"
   ]
  },
  {
   "cell_type": "code",
   "execution_count": null,
   "metadata": {},
   "outputs": [],
   "source": [
    "r = np.array([re], np.int32)"
   ]
  },
  {
   "cell_type": "code",
   "execution_count": null,
   "metadata": {},
   "outputs": [],
   "source": [
    "r"
   ]
  },
  {
   "cell_type": "code",
   "execution_count": null,
   "metadata": {},
   "outputs": [],
   "source": [
    "# black image with replace with white at points what we given \n",
    "d = cv2.fillPoly(black,r,255)"
   ]
  },
  {
   "cell_type": "code",
   "execution_count": null,
   "metadata": {},
   "outputs": [],
   "source": [
    "cv2.imshow('d',d)\n",
    "cv2.waitKey()\n",
    "cv2.destroyAllWindows()"
   ]
  },
  {
   "cell_type": "code",
   "execution_count": null,
   "metadata": {},
   "outputs": [],
   "source": [
    "# gives cutiing image \n",
    "g = cv2.bitwise_and(d , g_i)\n",
    "cv2.imshow('g',g)\n",
    "cv2.waitKey()\n",
    "cv2.destroyAllWindows()"
   ]
  },
  {
   "cell_type": "markdown",
   "metadata": {},
   "source": [
    "## Applying Same logic to the video"
   ]
  },
  {
   "cell_type": "code",
   "execution_count": null,
   "metadata": {},
   "outputs": [],
   "source": [
    "def interested_area(edge_frame,values):\n",
    "    black = np.zeros_like(edge_frame)\n",
    "    imp = cv2.fillPoly(black ,values , 255)\n",
    "    bit_and = cv2.bitwise_and(edge_frame , imp)\n",
    "    return bit_and\n",
    "    \n",
    "\n",
    "\n",
    "\n",
    "def individual_frame(image_frame):\n",
    "    height = image_frame.shape[0]\n",
    "    width = image_frame.shape[1]\n",
    "    sol = cv2.cvtColor(image_frame,cv2.COLOR_BGR2GRAY)\n",
    "    #return sol \n",
    "    edge = cv2.Canny(sol , 100,120)\n",
    "    \n",
    "    interested_area1 = [\n",
    "        (0,height) , \n",
    "        (width /  2 , height * 0.65),\n",
    "        (width , height)\n",
    "        ]\n",
    "    half = interested_area(edge , np.array([interested_area1] , np.int32))\n",
    "    return half\n",
    "\n",
    "\n",
    "\n",
    "cap = cv2.VideoCapture('./lane_detection_video.mp4')\n",
    "\n",
    "print(cap.read())\n",
    "\n",
    "while cap.read():\n",
    "    res , frame = cap.read()\n",
    "    if res == True:\n",
    "        greyscale = individual_frame(frame)\n",
    "        cv2.imshow(\"grey\",greyscale)\n",
    "        #if cv2.waitKey(1) & 0xFF  == ord('q'):\n",
    "            #break \n",
    "        cv2.waitKey(50)\n",
    "    else:\n",
    "        break\n",
    "cap.release()\n",
    "cv2.destroyAllWindows()"
   ]
  },
  {
   "cell_type": "markdown",
   "metadata": {},
   "source": [
    "## Now we need to join the lines using Hough Algorithm and give some colors"
   ]
  },
  {
   "cell_type": "code",
   "execution_count": null,
   "metadata": {},
   "outputs": [],
   "source": [
    "def final(image_frame,add):\n",
    "    im = np.zeros((image_frame.shape[0] , image_frame.shape[1] , 3), np.uint8)\n",
    "    \n",
    "    for i in add:\n",
    "        for x1,y1,x2,y2 in i:\n",
    "            cv2.line(im,(x1,y1),(x2,y2),(0,255,255),2)\n",
    "    #return im\n",
    "    \n",
    "    final_sol = cv2.addWeighted(image_frame,0.7,im,1,0)\n",
    "    return final_sol\n",
    "\n",
    "\n",
    "def interested_area(edge_frame,values):\n",
    "    black = np.zeros_like(edge_frame)\n",
    "    imp = cv2.fillPoly(black ,values , 255)\n",
    "    bit_and = cv2.bitwise_and(edge_frame , imp)\n",
    "    return bit_and\n",
    "    \n",
    "\n",
    "\n",
    "\n",
    "def individual_frame(image_frame):\n",
    "    height = image_frame.shape[0]\n",
    "    width = image_frame.shape[1]\n",
    "    sol = cv2.cvtColor(image_frame,cv2.COLOR_BGR2GRAY)\n",
    "    #return sol \n",
    "    edge = cv2.Canny(sol , 100,120)\n",
    "    \n",
    "    interested_area1 = [\n",
    "        (0,height) , \n",
    "        (width /  2 , height * 0.65),\n",
    "        (width , height)\n",
    "        ]\n",
    "    half = interested_area(edge , np.array([interested_area1] , np.int32))\n",
    "    #return half\n",
    "    \n",
    "    add = cv2.HoughLinesP(half,rho = 2 ,theta = np.pi / 180, threshold = 50 , lines =np.array([]) , minLineLength = 30 , maxLineGap = 1250)\n",
    "    #return add\n",
    "    res = final(image_frame,add)\n",
    "    return res\n",
    "\n",
    "cap = cv2.VideoCapture('./lane_detection_video.mp4')\n",
    "\n",
    "print(cap.read())\n",
    "\n",
    "while cap.read():\n",
    "    res , frame = cap.read()\n",
    "    if res == True:\n",
    "        greyscale = individual_frame(frame)\n",
    "        cv2.imshow(\"grey\",greyscale)\n",
    "        #if cv2.waitKey(1) & 0xFF  == ord('q'):\n",
    "            #break \n",
    "        cv2.waitKey(100)\n",
    "    else:\n",
    "        break\n",
    "cap.release()\n",
    "cv2.destroyAllWindows()"
   ]
  },
  {
   "cell_type": "code",
   "execution_count": null,
   "metadata": {},
   "outputs": [],
   "source": []
  }
 ],
 "metadata": {
  "kernelspec": {
   "display_name": "base",
   "language": "python",
   "name": "python3"
  },
  "language_info": {
   "codemirror_mode": {
    "name": "ipython",
    "version": 3
   },
   "file_extension": ".py",
   "mimetype": "text/x-python",
   "name": "python",
   "nbconvert_exporter": "python",
   "pygments_lexer": "ipython3",
   "version": "3.9.12"
  },
  "orig_nbformat": 4
 },
 "nbformat": 4,
 "nbformat_minor": 2
}
