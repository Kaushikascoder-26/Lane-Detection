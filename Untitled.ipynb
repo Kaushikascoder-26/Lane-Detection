{
 "cells": [
  {
   "cell_type": "code",
   "execution_count": 1,
   "id": "7b9e7097",
   "metadata": {},
   "outputs": [
    {
     "ename": "error",
     "evalue": "OpenCV(4.8.0) D:\\a\\opencv-python\\opencv-python\\opencv\\modules\\imgproc\\src\\color.cpp:182: error: (-215:Assertion failed) !_src.empty() in function 'cv::cvtColor'\n",
     "output_type": "error",
     "traceback": [
      "\u001b[1;31m---------------------------------------------------------------------------\u001b[0m",
      "\u001b[1;31merror\u001b[0m                                     Traceback (most recent call last)",
      "\u001b[1;32mc:\\Data Science\\Proj_ByKamalSir\\Lane Detection By Kamal Sir\\Untitled.ipynb Cell 1\u001b[0m in \u001b[0;36m<cell line: 7>\u001b[1;34m()\u001b[0m\n\u001b[0;32m      <a href='vscode-notebook-cell:/c%3A/Data%20Science/Proj_ByKamalSir/Lane%20Detection%20By%20Kamal%20Sir/Untitled.ipynb#W0sZmlsZQ%3D%3D?line=1'>2</a>\u001b[0m \u001b[39mimport\u001b[39;00m \u001b[39mnumpy\u001b[39;00m \u001b[39mas\u001b[39;00m \u001b[39mnp\u001b[39;00m \n\u001b[0;32m      <a href='vscode-notebook-cell:/c%3A/Data%20Science/Proj_ByKamalSir/Lane%20Detection%20By%20Kamal%20Sir/Untitled.ipynb#W0sZmlsZQ%3D%3D?line=4'>5</a>\u001b[0m image \u001b[39m=\u001b[39m cv2\u001b[39m.\u001b[39mimread(\u001b[39m'\u001b[39m\u001b[39m./test files/male_face.png\u001b[39m\u001b[39m'\u001b[39m,\u001b[39m1\u001b[39m)\n\u001b[1;32m----> <a href='vscode-notebook-cell:/c%3A/Data%20Science/Proj_ByKamalSir/Lane%20Detection%20By%20Kamal%20Sir/Untitled.ipynb#W0sZmlsZQ%3D%3D?line=6'>7</a>\u001b[0m black \u001b[39m=\u001b[39m cv2\u001b[39m.\u001b[39;49mcvtColor(image , cv2\u001b[39m.\u001b[39;49mCOLOR_BGR2GRAY)\n\u001b[0;32m     <a href='vscode-notebook-cell:/c%3A/Data%20Science/Proj_ByKamalSir/Lane%20Detection%20By%20Kamal%20Sir/Untitled.ipynb#W0sZmlsZQ%3D%3D?line=9'>10</a>\u001b[0m point1 \u001b[39m=\u001b[39m (\u001b[39m0\u001b[39m , image\u001b[39m.\u001b[39mshape[\u001b[39m0\u001b[39m])\n\u001b[0;32m     <a href='vscode-notebook-cell:/c%3A/Data%20Science/Proj_ByKamalSir/Lane%20Detection%20By%20Kamal%20Sir/Untitled.ipynb#W0sZmlsZQ%3D%3D?line=10'>11</a>\u001b[0m middlepoint \u001b[39m=\u001b[39m (image\u001b[39m.\u001b[39mshape[\u001b[39m1\u001b[39m] \u001b[39m/\u001b[39m \u001b[39m2\u001b[39m , image\u001b[39m.\u001b[39mshape[\u001b[39m0\u001b[39m] \u001b[39m/\u001b[39m \u001b[39m2\u001b[39m)\n",
      "\u001b[1;31merror\u001b[0m: OpenCV(4.8.0) D:\\a\\opencv-python\\opencv-python\\opencv\\modules\\imgproc\\src\\color.cpp:182: error: (-215:Assertion failed) !_src.empty() in function 'cv::cvtColor'\n"
     ]
    }
   ],
   "source": [
    "import cv2\n",
    "import numpy as np \n",
    "\n",
    "\n",
    "image = cv2.imread('./test files/male_face.png',1)\n",
    "\n",
    "black = cv2.cvtColor(image , cv2.COLOR_BGR2GRAY)\n",
    "\n",
    "\n",
    "point1 = (0 , image.shape[0])\n",
    "middlepoint = (image.shape[1] / 2 , image.shape[0] / 2)\n",
    "lastpoint = (image.shape[1] , image.shape[0])\n",
    "\n",
    "r = [\n",
    "     \n",
    "     (0 , image.shape[0]) , \n",
    "     (image.shape[1] / 2 , image.shape[0] / 2) , \n",
    "     (image.shape[1] , image.shape[0])\n",
    "]\n",
    "\n",
    "arr = np.array(r , np.int32)\n",
    "\n",
    "complete_black = np.zeros((image.shape[0] , image.shape[1])) \n",
    "\n",
    "white_portion = cv2.fillPoly(complete_black , r , 255)\n",
    "\n",
    "cv2.imshow('image' , image)\n",
    "\n",
    "cv2.imshow('black' , white_portion)\n",
    "\n",
    "cv2.waitKey()\n",
    "\n",
    "cv2.destroyAllWindows()"
   ]
  },
  {
   "cell_type": "code",
   "execution_count": null,
   "id": "a46eaab9",
   "metadata": {},
   "outputs": [],
   "source": []
  }
 ],
 "metadata": {
  "kernelspec": {
   "display_name": "Python 3 (ipykernel)",
   "language": "python",
   "name": "python3"
  },
  "language_info": {
   "codemirror_mode": {
    "name": "ipython",
    "version": 3
   },
   "file_extension": ".py",
   "mimetype": "text/x-python",
   "name": "python",
   "nbconvert_exporter": "python",
   "pygments_lexer": "ipython3",
   "version": "3.9.12"
  }
 },
 "nbformat": 4,
 "nbformat_minor": 5
}
